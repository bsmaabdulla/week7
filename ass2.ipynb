{
 "cells": [
  {
   "cell_type": "code",
   "execution_count": null,
   "metadata": {},
   "outputs": [],
   "source": [
    "import numpy as np\n",
    "import pandas as pd\n",
    "from sklearn.ensemble import RandomForestRegressor \n",
    "from sklearn.tree import export_graphviz\n",
    "#import pydot"
   ]
  },
  {
   "cell_type": "code",
   "execution_count": null,
   "metadata": {},
   "outputs": [],
   "source": [
    "df=pd.read_csv('SBAnational.csv')\n",
    "df.head(20)\n",
    "#df=df[['Lo']]\n",
    "\n",
    "#x=pd.get_dummies(df.drop(['Name','City','Zip','BankState','NAICS','ApprovalFY','RevLineCr','LowDoc','DisbursementDate','DisbursementGross','BalanceGross','ChgOffPrinGr'], axis=1))\n",
    "#y = df['SBAnational'].apply(lambda x: 1 if x=='Yes' else 0)\n",
    "#Date','BalanceGross'],axis=1))\n",
    "#Y=df['LowDoc'].apply(lambda x:1 if x=='Y' else 0)\n"
   ]
  }
 ],
 "metadata": {
  "interpreter": {
   "hash": "41bd3fd7d9e964b2fad6aed94245c691d4191ccf8c3ec0630e831498010d969d"
  },
  "kernelspec": {
   "display_name": "Python 3.8.8 64-bit ('base': conda)",
   "language": "python",
   "name": "python3"
  },
  "language_info": {
   "codemirror_mode": {
    "name": "ipython",
    "version": 3
   },
   "file_extension": ".py",
   "mimetype": "text/x-python",
   "name": "python",
   "nbconvert_exporter": "python",
   "pygments_lexer": "ipython3",
   "version": "3.8.8"
  },
  "orig_nbformat": 4
 },
 "nbformat": 4,
 "nbformat_minor": 2
}
